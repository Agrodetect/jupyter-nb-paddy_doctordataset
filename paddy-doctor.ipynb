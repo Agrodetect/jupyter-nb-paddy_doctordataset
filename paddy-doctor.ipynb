{
 "cells": [
  {
   "cell_type": "code",
   "execution_count": null,
   "id": "3a0fe1b5",
   "metadata": {
    "papermill": {
     "duration": 0.015715,
     "end_time": "2023-10-30T10:26:23.210527",
     "exception": false,
     "start_time": "2023-10-30T10:26:23.194812",
     "status": "completed"
    },
    "tags": []
   },
   "outputs": [],
   "source": []
  },
  {
   "cell_type": "code",
   "execution_count": null,
   "id": "0c2aea84",
   "metadata": {
    "_cell_guid": "b1076dfc-b9ad-4769-8c92-a6c4dae69d19",
    "_uuid": "8f2839f25d086af736a60e9eeb907d3b93b6e0e5",
    "execution": {
     "iopub.execute_input": "2023-10-30T02:35:13.932500Z",
     "iopub.status.busy": "2023-10-30T02:35:13.931688Z",
     "iopub.status.idle": "2023-10-30T02:35:24.552516Z",
     "shell.execute_reply": "2023-10-30T02:35:24.551070Z",
     "shell.execute_reply.started": "2023-10-30T02:35:13.932455Z"
    },
    "papermill": {
     "duration": null,
     "end_time": null,
     "exception": false,
     "start_time": "2023-10-30T10:26:23.226540",
     "status": "running"
    },
    "tags": []
   },
   "outputs": [],
   "source": [
    "import datetime, os\n",
    "\n",
    "import matplotlib.pyplot as plt\n",
    "import numpy as np\n",
    "import pandas as pd\n",
    "from tensorflow import keras\n",
    "from tensorflow.keras.preprocessing.image import ImageDataGenerator\n",
    "from tensorflow.keras.models import Sequential, Model\n",
    "from tensorflow.keras.layers import Dense, Input, Flatten, Conv2D, MaxPooling2D\n",
    "from tensorflow.keras.optimizers import Adam\n",
    "from tensorflow.keras import layers\n",
    "from tensorflow.keras.metrics import Accuracy\n",
    "import tensorflow as tf\n"
   ]
  },
  {
   "cell_type": "code",
   "execution_count": null,
   "id": "cd3c5383",
   "metadata": {
    "execution": {
     "iopub.execute_input": "2023-10-30T02:35:24.558259Z",
     "iopub.status.busy": "2023-10-30T02:35:24.556333Z",
     "iopub.status.idle": "2023-10-30T02:35:24.606654Z",
     "shell.execute_reply": "2023-10-30T02:35:24.605165Z",
     "shell.execute_reply.started": "2023-10-30T02:35:24.558207Z"
    },
    "papermill": {
     "duration": null,
     "end_time": null,
     "exception": null,
     "start_time": null,
     "status": "pending"
    },
    "tags": []
   },
   "outputs": [],
   "source": [
    "dftemp = pd.read_csv('/kaggle/input/paddy-disease-classification/train.csv')\n",
    "dftemp.head()"
   ]
  },
  {
   "cell_type": "code",
   "execution_count": null,
   "id": "581ccec1",
   "metadata": {
    "execution": {
     "iopub.execute_input": "2023-10-30T02:35:24.618296Z",
     "iopub.status.busy": "2023-10-30T02:35:24.617966Z",
     "iopub.status.idle": "2023-10-30T02:35:24.916231Z",
     "shell.execute_reply": "2023-10-30T02:35:24.914412Z",
     "shell.execute_reply.started": "2023-10-30T02:35:24.618265Z"
    },
    "papermill": {
     "duration": null,
     "end_time": null,
     "exception": null,
     "start_time": null,
     "status": "pending"
    },
    "tags": []
   },
   "outputs": [],
   "source": [
    "value_counts = dftemp['label'].value_counts().plot(kind = 'bar')\n",
    "plt.ylabel(\"Count\")"
   ]
  },
  {
   "cell_type": "code",
   "execution_count": null,
   "id": "a1e03c25",
   "metadata": {
    "execution": {
     "iopub.execute_input": "2023-10-30T02:35:24.918257Z",
     "iopub.status.busy": "2023-10-30T02:35:24.917920Z",
     "iopub.status.idle": "2023-10-30T02:35:24.927891Z",
     "shell.execute_reply": "2023-10-30T02:35:24.926143Z",
     "shell.execute_reply.started": "2023-10-30T02:35:24.918228Z"
    },
    "papermill": {
     "duration": null,
     "end_time": null,
     "exception": null,
     "start_time": null,
     "status": "pending"
    },
    "tags": []
   },
   "outputs": [],
   "source": [
    "dftemp['variety'].value_counts()"
   ]
  },
  {
   "cell_type": "code",
   "execution_count": null,
   "id": "edda42b5",
   "metadata": {
    "execution": {
     "iopub.execute_input": "2023-10-30T02:35:24.929634Z",
     "iopub.status.busy": "2023-10-30T02:35:24.929357Z",
     "iopub.status.idle": "2023-10-30T02:35:24.946224Z",
     "shell.execute_reply": "2023-10-30T02:35:24.944841Z",
     "shell.execute_reply.started": "2023-10-30T02:35:24.929611Z"
    },
    "papermill": {
     "duration": null,
     "end_time": null,
     "exception": null,
     "start_time": null,
     "status": "pending"
    },
    "tags": []
   },
   "outputs": [],
   "source": [
    "dftemp['age'].value_counts()"
   ]
  },
  {
   "cell_type": "code",
   "execution_count": null,
   "id": "7146e72a",
   "metadata": {
    "execution": {
     "iopub.execute_input": "2023-10-30T02:35:24.948387Z",
     "iopub.status.busy": "2023-10-30T02:35:24.947784Z",
     "iopub.status.idle": "2023-10-30T02:35:25.450142Z",
     "shell.execute_reply": "2023-10-30T02:35:25.448640Z",
     "shell.execute_reply.started": "2023-10-30T02:35:24.948350Z"
    },
    "papermill": {
     "duration": null,
     "end_time": null,
     "exception": null,
     "start_time": null,
     "status": "pending"
    },
    "tags": []
   },
   "outputs": [],
   "source": [
    "train_ds.class_indices.keys()"
   ]
  },
  {
   "cell_type": "code",
   "execution_count": null,
   "id": "11494b33",
   "metadata": {
    "execution": {
     "iopub.execute_input": "2023-10-30T02:35:30.618758Z",
     "iopub.status.busy": "2023-10-30T02:35:30.618418Z",
     "iopub.status.idle": "2023-10-30T02:35:30.623587Z",
     "shell.execute_reply": "2023-10-30T02:35:30.622365Z",
     "shell.execute_reply.started": "2023-10-30T02:35:30.618729Z"
    },
    "papermill": {
     "duration": null,
     "end_time": null,
     "exception": null,
     "start_time": null,
     "status": "pending"
    },
    "tags": []
   },
   "outputs": [],
   "source": [
    "SEED = 548\n",
    "BATCH_SIZE = 64\n",
    "EPOCHS = 15\n",
    "LEARNING_RATE = 0.13\n",
    "#IMAGE_SIZE = 112\n",
    "IMAGE_SIZE = 256\n",
    "\n",
    "img_gen = ImageDataGenerator(\n",
    "    rescale=1./255,\n",
    "    validation_split=0.1\n",
    ")"
   ]
  },
  {
   "cell_type": "code",
   "execution_count": null,
   "id": "b9a729c1",
   "metadata": {
    "execution": {
     "iopub.execute_input": "2023-10-30T02:35:32.760256Z",
     "iopub.status.busy": "2023-10-30T02:35:32.759443Z",
     "iopub.status.idle": "2023-10-30T02:35:39.911206Z",
     "shell.execute_reply": "2023-10-30T02:35:39.909653Z",
     "shell.execute_reply.started": "2023-10-30T02:35:32.760227Z"
    },
    "papermill": {
     "duration": null,
     "end_time": null,
     "exception": null,
     "start_time": null,
     "status": "pending"
    },
    "tags": []
   },
   "outputs": [],
   "source": [
    "train_ds = img_gen.flow_from_directory('../input/paddy-disease-classification/train_images',\n",
    "                                       target_size=(IMAGE_SIZE,IMAGE_SIZE),\n",
    "                                       shuffle=True, \n",
    "                                       seed=SEED,\n",
    "                                       class_mode='categorical',\n",
    "                                       batch_size=BATCH_SIZE,\n",
    "                                       subset=\"training\")\n",
    "\n",
    "classes = list(train_ds.class_indices.keys())\n",
    "\n",
    "print('Classes: '+str(classes))\n",
    "\n",
    "num_classes  = len(classes)"
   ]
  },
  {
   "cell_type": "code",
   "execution_count": null,
   "id": "2b5a9fe5",
   "metadata": {
    "execution": {
     "iopub.execute_input": "2023-10-30T02:35:39.913338Z",
     "iopub.status.busy": "2023-10-30T02:35:39.912976Z",
     "iopub.status.idle": "2023-10-30T02:35:40.733450Z",
     "shell.execute_reply": "2023-10-30T02:35:40.732116Z",
     "shell.execute_reply.started": "2023-10-30T02:35:39.913315Z"
    },
    "papermill": {
     "duration": null,
     "end_time": null,
     "exception": null,
     "start_time": null,
     "status": "pending"
    },
    "tags": []
   },
   "outputs": [],
   "source": [
    "val_ds = img_gen.flow_from_directory('../input/paddy-disease-classification/train_images',\n",
    "                                       target_size=(IMAGE_SIZE,IMAGE_SIZE),\n",
    "                                       shuffle=False, \n",
    "                                       seed=SEED,\n",
    "                                       class_mode='categorical',\n",
    "                                       batch_size=BATCH_SIZE,\n",
    "                                       subset=\"validation\")"
   ]
  },
  {
   "cell_type": "code",
   "execution_count": null,
   "id": "89c01426",
   "metadata": {
    "execution": {
     "iopub.execute_input": "2023-10-30T02:35:40.735043Z",
     "iopub.status.busy": "2023-10-30T02:35:40.734629Z",
     "iopub.status.idle": "2023-10-30T02:35:45.292779Z",
     "shell.execute_reply": "2023-10-30T02:35:45.290747Z",
     "shell.execute_reply.started": "2023-10-30T02:35:40.735007Z"
    },
    "papermill": {
     "duration": null,
     "end_time": null,
     "exception": null,
     "start_time": null,
     "status": "pending"
    },
    "tags": []
   },
   "outputs": [],
   "source": [
    "test_ds = img_gen.flow_from_directory('../input/paddy-disease-classification/test_images',\n",
    "                                      target_size=(IMAGE_SIZE,IMAGE_SIZE),\n",
    "                                      classes=['.'],\n",
    "                                      class_mode= None,\n",
    "                                      batch_size=BATCH_SIZE)"
   ]
  },
  {
   "cell_type": "code",
   "execution_count": null,
   "id": "673571f4",
   "metadata": {
    "execution": {
     "iopub.execute_input": "2023-10-30T02:35:45.296968Z",
     "iopub.status.busy": "2023-10-30T02:35:45.296576Z",
     "iopub.status.idle": "2023-10-30T02:35:45.302522Z",
     "shell.execute_reply": "2023-10-30T02:35:45.301402Z",
     "shell.execute_reply.started": "2023-10-30T02:35:45.296930Z"
    },
    "papermill": {
     "duration": null,
     "end_time": null,
     "exception": null,
     "start_time": null,
     "status": "pending"
    },
    "tags": []
   },
   "outputs": [],
   "source": [
    "nb_train_samples = train_ds.samples\n",
    "\n",
    "steps_per_epoch = nb_train_samples // BATCH_SIZE"
   ]
  },
  {
   "cell_type": "code",
   "execution_count": null,
   "id": "59ad79b7",
   "metadata": {
    "execution": {
     "iopub.execute_input": "2023-10-30T02:35:45.304974Z",
     "iopub.status.busy": "2023-10-30T02:35:45.304275Z",
     "iopub.status.idle": "2023-10-30T02:35:50.742429Z",
     "shell.execute_reply": "2023-10-30T02:35:50.741312Z",
     "shell.execute_reply.started": "2023-10-30T02:35:45.304940Z"
    },
    "papermill": {
     "duration": null,
     "end_time": null,
     "exception": null,
     "start_time": null,
     "status": "pending"
    },
    "tags": []
   },
   "outputs": [],
   "source": [
    "plt.figure(figsize=(30,30))\n",
    "images = train_ds.next()*255\n",
    "for i, (image, l) in enumerate(zip(images[0][:9],images[1][:9])):\n",
    "    ax = plt.subplot(330 + 1 + i)\n",
    "    ax.set_title( classes[np.argmax(l)] )\n",
    "    plt.imshow(image)\n",
    "plt.show()"
   ]
  },
  {
   "cell_type": "markdown",
   "id": "9b122c79",
   "metadata": {
    "papermill": {
     "duration": null,
     "end_time": null,
     "exception": null,
     "start_time": null,
     "status": "pending"
    },
    "tags": []
   },
   "source": [
    "# model 3"
   ]
  },
  {
   "cell_type": "code",
   "execution_count": null,
   "id": "9031dc73",
   "metadata": {
    "execution": {
     "iopub.execute_input": "2023-10-30T02:36:52.946477Z",
     "iopub.status.busy": "2023-10-30T02:36:52.945984Z",
     "iopub.status.idle": "2023-10-30T02:36:53.591648Z",
     "shell.execute_reply": "2023-10-30T02:36:53.589888Z",
     "shell.execute_reply.started": "2023-10-30T02:36:52.946436Z"
    },
    "papermill": {
     "duration": null,
     "end_time": null,
     "exception": null,
     "start_time": null,
     "status": "pending"
    },
    "tags": []
   },
   "outputs": [],
   "source": [
    "model = tf.keras.Sequential([\n",
    "    tf.keras.layers.InputLayer(input_shape=(IMAGE_SIZE, IMAGE_SIZE, 3)),\n",
    "    tf.keras.layers.Conv2D(16, (3, 3), activation='relu'),\n",
    "    tf.keras.layers.BatchNormalization(),\n",
    "    tf.keras.layers.MaxPooling2D(2, 2),\n",
    "    \n",
    "    tf.keras.layers.Conv2D(32, (3, 3), activation='relu'),\n",
    "    tf.keras.layers.BatchNormalization(),\n",
    "    tf.keras.layers.MaxPooling2D(2, 2),\n",
    "    \n",
    "    tf.keras.layers.Conv2D(64, (3, 3), activation='relu'),\n",
    "    tf.keras.layers.BatchNormalization(),\n",
    "    tf.keras.layers.MaxPooling2D(2, 2),\n",
    "    \n",
    "    tf.keras.layers.Conv2D(128, (3, 3), activation='relu'),\n",
    "    tf.keras.layers.BatchNormalization(),\n",
    "    tf.keras.layers.MaxPooling2D(2, 2),\n",
    "    \n",
    "    tf.keras.layers.Conv2D(256, (3, 3), activation='relu'),\n",
    "    tf.keras.layers.BatchNormalization(),\n",
    "    tf.keras.layers.MaxPooling2D(2, 2),\n",
    "    \n",
    "    tf.keras.layers.Flatten(),\n",
    "    \n",
    "    tf.keras.layers.Dense(8192, activation='relu'),\n",
    "    tf.keras.layers.Dropout(0.5),  # Adding dropout for regularization\n",
    "    \n",
    "    tf.keras.layers.Dense(1024, activation='relu'),\n",
    "    tf.keras.layers.Dropout(0.5),  # Adding dropout for regularization\n",
    "    \n",
    "    tf.keras.layers.Dense(128, activation='relu'),\n",
    "    \n",
    "    tf.keras.layers.Dense(num_classes, activation='softmax')\n",
    "])\n",
    "model.compile(optimizer='Adam',loss='categorical_crossentropy',metrics=['accuracy'])\n"
   ]
  },
  {
   "cell_type": "code",
   "execution_count": null,
   "id": "f4404c3b",
   "metadata": {
    "execution": {
     "iopub.execute_input": "2023-10-30T02:36:55.123597Z",
     "iopub.status.busy": "2023-10-30T02:36:55.123094Z",
     "iopub.status.idle": "2023-10-30T02:36:55.210620Z",
     "shell.execute_reply": "2023-10-30T02:36:55.208687Z",
     "shell.execute_reply.started": "2023-10-30T02:36:55.123556Z"
    },
    "papermill": {
     "duration": null,
     "end_time": null,
     "exception": null,
     "start_time": null,
     "status": "pending"
    },
    "tags": []
   },
   "outputs": [],
   "source": [
    "model.summary()\n"
   ]
  },
  {
   "cell_type": "code",
   "execution_count": null,
   "id": "2e67328e",
   "metadata": {
    "execution": {
     "iopub.execute_input": "2023-10-30T02:36:59.067208Z",
     "iopub.status.busy": "2023-10-30T02:36:59.066818Z",
     "iopub.status.idle": "2023-10-30T02:36:59.076501Z",
     "shell.execute_reply": "2023-10-30T02:36:59.074965Z",
     "shell.execute_reply.started": "2023-10-30T02:36:59.067180Z"
    },
    "papermill": {
     "duration": null,
     "end_time": null,
     "exception": null,
     "start_time": null,
     "status": "pending"
    },
    "tags": []
   },
   "outputs": [],
   "source": [
    "from tensorflow.keras.callbacks import ModelCheckpoint, EarlyStopping, ReduceLROnPlateau\n",
    "\n",
    "# Define callback functions\n",
    "checkpoint = ModelCheckpoint(\"model_3.h5\", monitor=\"val_loss\", save_best_only=True)\n",
    "early_stopping = EarlyStopping(monitor=\"val_loss\", patience=5)\n",
    "reduce_lr = ReduceLROnPlateau(monitor=\"val_loss\", factor=0.2, patience=3, min_lr=0.0001)\n",
    "\n",
    "# Create a list of callbacks to be passed to the fit method\n",
    "callbacks = [checkpoint, early_stopping, reduce_lr]"
   ]
  },
  {
   "cell_type": "code",
   "execution_count": null,
   "id": "6fb501ae",
   "metadata": {
    "execution": {
     "iopub.execute_input": "2023-10-30T02:37:10.168658Z",
     "iopub.status.busy": "2023-10-30T02:37:10.168313Z"
    },
    "papermill": {
     "duration": null,
     "end_time": null,
     "exception": null,
     "start_time": null,
     "status": "pending"
    },
    "tags": []
   },
   "outputs": [],
   "source": [
    "history = model.fit(\n",
    "    train_ds,\n",
    "    steps_per_epoch=steps_per_epoch,\n",
    "    epochs=20,\n",
    "    validation_data=val_ds,\n",
    "    callbacks=callbacks\n",
    ")"
   ]
  },
  {
   "cell_type": "code",
   "execution_count": null,
   "id": "18fcb333",
   "metadata": {
    "papermill": {
     "duration": null,
     "end_time": null,
     "exception": null,
     "start_time": null,
     "status": "pending"
    },
    "tags": []
   },
   "outputs": [],
   "source": [
    "fig, (ax1, ax2) = plt.subplots(1, 2, figsize=(12, 4))\n",
    "\n",
    "# Plot accuracy\n",
    "ax1.plot(history.history[\"accuracy\"], color=\"r\")\n",
    "ax1.plot(history.history[\"val_accuracy\"], color=\"g\")\n",
    "ax1.legend([\"Training\", \"Validation\"])\n",
    "ax1.set_xlabel(\"Epochs\")\n",
    "ax1.set_ylabel(\"Accuracy\")\n",
    "ax1.grid()\n",
    "ax1.set_ylim(0, 1)\n",
    "\n",
    "# Plot loss\n",
    "ax2.plot(history.history[\"loss\"], color=\"r\")\n",
    "ax2.plot(history.history[\"val_loss\"], color=\"g\")\n",
    "ax2.legend([\"Training\", \"Validation\"])\n",
    "ax2.set_xlabel(\"Epochs\")\n",
    "ax2.set_ylabel(\"Loss\")\n",
    "ax2.grid()\n",
    "\n",
    "# Show the subplots\n",
    "plt.tight_layout()\n",
    "plt.show()"
   ]
  },
  {
   "cell_type": "code",
   "execution_count": null,
   "id": "5b830e93",
   "metadata": {
    "execution": {
     "iopub.execute_input": "2023-10-29T13:49:33.920731Z",
     "iopub.status.busy": "2023-10-29T13:49:33.920337Z",
     "iopub.status.idle": "2023-10-29T13:49:34.206645Z",
     "shell.execute_reply": "2023-10-29T13:49:34.205598Z",
     "shell.execute_reply.started": "2023-10-29T13:49:33.920701Z"
    },
    "papermill": {
     "duration": null,
     "end_time": null,
     "exception": null,
     "start_time": null,
     "status": "pending"
    },
    "tags": []
   },
   "outputs": [],
   "source": [
    "model.save(\"my_model_3_after.h5\")"
   ]
  },
  {
   "cell_type": "code",
   "execution_count": null,
   "id": "8bbcd2b7",
   "metadata": {
    "execution": {
     "iopub.execute_input": "2023-10-29T13:48:18.826285Z",
     "iopub.status.busy": "2023-10-29T13:48:18.825705Z",
     "iopub.status.idle": "2023-10-29T13:48:33.011567Z",
     "shell.execute_reply": "2023-10-29T13:48:33.010233Z",
     "shell.execute_reply.started": "2023-10-29T13:48:18.826243Z"
    },
    "papermill": {
     "duration": null,
     "end_time": null,
     "exception": null,
     "start_time": null,
     "status": "pending"
    },
    "tags": []
   },
   "outputs": [],
   "source": [
    "!pip install tf-explain"
   ]
  },
  {
   "cell_type": "code",
   "execution_count": null,
   "id": "88177501",
   "metadata": {
    "execution": {
     "iopub.execute_input": "2023-10-29T13:59:00.329080Z",
     "iopub.status.busy": "2023-10-29T13:59:00.328559Z",
     "iopub.status.idle": "2023-10-29T13:59:06.034351Z",
     "shell.execute_reply": "2023-10-29T13:59:06.033358Z",
     "shell.execute_reply.started": "2023-10-29T13:59:00.329039Z"
    },
    "papermill": {
     "duration": null,
     "end_time": null,
     "exception": null,
     "start_time": null,
     "status": "pending"
    },
    "tags": []
   },
   "outputs": [],
   "source": [
    "import numpy as np\n",
    "from tf_explain.core.grad_cam import GradCAM\n",
    "\n",
    "# Load your trained model from the H5 file\n",
    "model = keras.models.load_model('/kaggle/working/my_model_3.h5')\n",
    "\n",
    "# Define a function to generate Grad-CAM visualizations\n",
    "def generate_grad_cam_images(model, images, layer_name, num_images=5):\n",
    "    for i in range(num_images):\n",
    "        image = images[0][i]\n",
    "        label = classes[np.argmax(images[1][i])]\n",
    "        explanation = GradCAM()\n",
    "        \n",
    "        # Get the predicted class index for the image\n",
    "        predicted_class_index = np.argmax(model.predict(np.expand_dims(image, axis=0)))\n",
    "        \n",
    "        # Generate Grad-CAM heatmap\n",
    "        explanation = GradCAM()\n",
    "        heat_map = explanation.explain((np.expand_dims(image, axis=0), None), model, class_index=predicted_class_index, layer_name=layer_name)\n",
    "        \n",
    "        # Display the original image, Grad-CAM heatmap, and overlay\n",
    "        plt.figure(figsize=(10, 5))\n",
    "        plt.subplot(1, 3, 1)\n",
    "        plt.title(\"Original Image ({})\".format(label))\n",
    "        plt.imshow(image / 255.0)\n",
    "        plt.axis(\"off\")\n",
    "\n",
    "        plt.subplot(1, 3, 2)\n",
    "        plt.title(\"Grad-CAM Heatmap\")\n",
    "        plt.imshow(heat_map, cmap=\"jet\")\n",
    "        plt.axis(\"off\")\n",
    "\n",
    "        plt.subplot(1, 3, 3)\n",
    "        plt.title(\"Overlay\")\n",
    "        plt.imshow(image / 255.0)\n",
    "        plt.imshow(heat_map, cmap=\"jet\", alpha=0.5)\n",
    "        plt.axis(\"off\")\n",
    "\n",
    "        plt.savefig(\"grad_cam_result_{}.png\".format(i))\n",
    "        plt.show()\n",
    "\n",
    "# Specify the layer name for which you want to generate Grad-CAM\n",
    "# You can choose any intermediate layer in your model\n",
    "layer_name = \"conv2d_4\"  # Example layer name, change it as needed\n",
    "\n",
    "# Generate Grad-CAM visualizations for the first 5 images\n",
    "generate_grad_cam_images(model, images, layer_name, num_images=5)\n"
   ]
  },
  {
   "cell_type": "code",
   "execution_count": null,
   "id": "51572356",
   "metadata": {
    "execution": {
     "iopub.execute_input": "2023-10-29T14:03:46.773795Z",
     "iopub.status.busy": "2023-10-29T14:03:46.773070Z",
     "iopub.status.idle": "2023-10-29T14:03:51.440439Z",
     "shell.execute_reply": "2023-10-29T14:03:51.438922Z",
     "shell.execute_reply.started": "2023-10-29T14:03:46.773756Z"
    },
    "papermill": {
     "duration": null,
     "end_time": null,
     "exception": null,
     "start_time": null,
     "status": "pending"
    },
    "tags": []
   },
   "outputs": [],
   "source": [
    "import numpy as np\n",
    "from tf_explain.core.grad_cam import GradCAM\n",
    "\n",
    "# Load your trained model from the H5 file\n",
    "model = keras.models.load_model('/kaggle/working/my_model_3.h5')\n",
    "\n",
    "# Define a function to generate Grad-CAM visualizations\n",
    "def generate_grad_cam_images(model, images, layer_name, num_images=5):\n",
    "    for i in range(num_images):\n",
    "        image = images[0][i]\n",
    "        label = classes[np.argmax(images[1][i])]\n",
    "        \n",
    "        # Get the predicted class index for the image\n",
    "        predicted_class_index = np.argmax(model.predict(np.expand_dims(image, axis=0)))\n",
    "        \n",
    "        # Generate Grad-CAM heatmap\n",
    "        explanation = GradCAM()\n",
    "        heat_map = explanation.explain((np.expand_dims(image, axis=0), None), model, class_index=predicted_class_index, layer_name=layer_name)\n",
    "        \n",
    "        # Display the original image, Grad-CAM heatmap, and overlay\n",
    "        plt.figure(figsize=(10, 5))\n",
    "        \n",
    "        # Original Image\n",
    "        plt.subplot(1, 3, 1)\n",
    "        plt.title(\"Original Image ({})\".format(label))\n",
    "        plt.imshow(image)\n",
    "        plt.axis(\"off\")\n",
    "\n",
    "        # Grad-CAM Heatmap\n",
    "        plt.subplot(1, 3, 2)\n",
    "        plt.title(\"Grad-CAM Heatmap\")\n",
    "        plt.imshow(heat_map, cmap=\"jet\")\n",
    "        plt.axis(\"off\")\n",
    "\n",
    "        # Overlay\n",
    "        plt.subplot(1, 3, 3)\n",
    "        plt.title(\"Overlay\")\n",
    "        overlay = image / 255.0 + heat_map\n",
    "        plt.imshow(overlay)\n",
    "        plt.axis(\"off\")\n",
    "\n",
    "        plt.savefig(\"grad_cam_result_{}.png\".format(i))\n",
    "        plt.show()\n",
    "\n",
    "# Specify the layer name for which you want to generate Grad-CAM\n",
    "# You can choose any intermediate layer in your model\n",
    "layer_name = \"conv2d_4\"  # Example layer name, change it as needed\n",
    "\n",
    "# Generate Grad-CAM visualizations for the first 5 images\n",
    "generate_grad_cam_images(model, images, layer_name, num_images=5)\n"
   ]
  },
  {
   "cell_type": "code",
   "execution_count": null,
   "id": "1558aa73",
   "metadata": {
    "execution": {
     "iopub.execute_input": "2023-10-29T14:04:12.164816Z",
     "iopub.status.busy": "2023-10-29T14:04:12.163483Z",
     "iopub.status.idle": "2023-10-29T14:04:17.667704Z",
     "shell.execute_reply": "2023-10-29T14:04:17.666038Z",
     "shell.execute_reply.started": "2023-10-29T14:04:12.164769Z"
    },
    "papermill": {
     "duration": null,
     "end_time": null,
     "exception": null,
     "start_time": null,
     "status": "pending"
    },
    "tags": []
   },
   "outputs": [],
   "source": [
    "import numpy as np\n",
    "from tf_explain.core.grad_cam import GradCAM\n",
    "\n",
    "# Load your trained model from the H5 file\n",
    "model = keras.models.load_model('/kaggle/working/my_model_3.h5')\n",
    "\n",
    "# Define a function to generate Grad-CAM visualizations\n",
    "def generate_grad_cam_images(model, images, layer_name, num_images=5):\n",
    "    for i in range(num_images):\n",
    "        image = images[0][i]\n",
    "        label = classes[np.argmax(images[1][i])]\n",
    "        \n",
    "        # Get the predicted class index for the image\n",
    "        predicted_class_index = np.argmax(model.predict(np.expand_dims(image, axis=0)))\n",
    "        \n",
    "        # Generate Grad-CAM heatmap\n",
    "        explanation = GradCAM()\n",
    "        heat_map = explanation.explain((np.expand_dims(image, axis=0), None), model, class_index=predicted_class_index, layer_name=layer_name)\n",
    "        \n",
    "        # Display the original image, Grad-CAM heatmap, and overlay\n",
    "        plt.figure(figsize=(10, 5))\n",
    "        \n",
    "        # Original Image\n",
    "        plt.subplot(1, 3, 1)\n",
    "        plt.title(\"Original Image ({})\".format(label))\n",
    "        plt.imshow(image)\n",
    "        plt.axis(\"off\")\n",
    "\n",
    "        # Grad-CAM Heatmap\n",
    "        plt.subplot(1, 3, 2)\n",
    "        plt.title(\"Grad-CAM Heatmap\")\n",
    "        plt.imshow(heat_map, cmap=\"jet\")\n",
    "        plt.axis(\"off\")\n",
    "\n",
    "        # Overlay\n",
    "        plt.subplot(1, 3, 3)\n",
    "        plt.title(\"Grad-CAM Heatmap\")\n",
    "        plt.imshow(image)  # Display the original image\n",
    "        plt.imshow(heat_map, cmap=\"jet\", alpha=0.5)  # Overlay the heatmap with transparency\n",
    "        plt.axis(\"off\")\n",
    "\n",
    "        plt.savefig(\"grad_cam_result_{}.png\".format(i))\n",
    "        plt.show()\n",
    "\n",
    "# Specify the layer name for which you want to generate Grad-CAM\n",
    "# You can choose any intermediate layer in your model\n",
    "layer_name = \"conv2d_4\"  # Example layer name, change it as needed\n",
    "\n",
    "# Generate Grad-CAM visualizations for the first 5 images\n",
    "generate_grad_cam_images(model, images, layer_name, num_images=5)\n"
   ]
  },
  {
   "cell_type": "code",
   "execution_count": null,
   "id": "03b7dd37",
   "metadata": {
    "execution": {
     "iopub.execute_input": "2023-10-29T14:06:00.209671Z",
     "iopub.status.busy": "2023-10-29T14:06:00.209113Z",
     "iopub.status.idle": "2023-10-29T14:06:08.065825Z",
     "shell.execute_reply": "2023-10-29T14:06:08.064457Z",
     "shell.execute_reply.started": "2023-10-29T14:06:00.209629Z"
    },
    "papermill": {
     "duration": null,
     "end_time": null,
     "exception": null,
     "start_time": null,
     "status": "pending"
    },
    "tags": []
   },
   "outputs": [],
   "source": [
    "import numpy as np\n",
    "from tf_explain.core.grad_cam import GradCAM\n",
    "\n",
    "# Load your trained model from the H5 file\n",
    "model = keras.models.load_model('/kaggle/working/my_model_3.h5')\n",
    "\n",
    "# Define a function to generate Grad-CAM visualizations\n",
    "def generate_grad_cam_images(model, images, layer_name, num_images=5):\n",
    "    for i in range(num_images):\n",
    "        image = images[0][i]\n",
    "        label = classes[np.argmax(images[1][i])]\n",
    "        \n",
    "        # Get the predicted class index for the image\n",
    "        predicted_class_index = np.argmax(model.predict(np.expand_dims(image, axis=0)))\n",
    "        \n",
    "        # Generate Grad-CAM heatmap\n",
    "        explanation = GradCAM()\n",
    "        heat_map = explanation.explain((np.expand_dims(image, axis=0), None), model, class_index=predicted_class_index, layer_name=layer_name)\n",
    "        \n",
    "        # Create a colorbar image\n",
    "        plt.figure(figsize=(1, 5))\n",
    "        plt.imshow(np.arange(0, 1, 0.01).reshape(1, -1), cmap=\"jet\")\n",
    "        plt.gca().set_visible(False)\n",
    "        cax = plt.axes([0.1, 0.2, 0.03, 0.6])\n",
    "        plt.colorbar(cax=cax)\n",
    "        plt.title(\"Heatmap Legend\")\n",
    "        \n",
    "        # Display the original image, Grad-CAM heatmap, overlay, and colorbar\n",
    "        plt.figure(figsize=(15, 5))\n",
    "        \n",
    "        # Original Image\n",
    "        plt.subplot(1, 4, 1)\n",
    "        plt.title(\"Original Image ({})\".format(label))\n",
    "        plt.imshow(image)\n",
    "        plt.axis(\"off\")\n",
    "\n",
    "        # Grad-CAM Heatmap\n",
    "        plt.subplot(1, 4, 2)\n",
    "        plt.title(\"Grad-CAM Heatmap\")\n",
    "        plt.imshow(heat_map, cmap=\"jet\")\n",
    "        plt.axis(\"off\")\n",
    "\n",
    "        # Overlay\n",
    "        plt.subplot(1, 4, 3)\n",
    "        plt.title(\"Overlay\")\n",
    "        plt.imshow(image)  # Display the original image\n",
    "        plt.imshow(heat_map, cmap=\"jet\", alpha=0.5)  # Overlay the heatmap with transparency\n",
    "        plt.axis(\"off\")\n",
    "        \n",
    "        # Colorbar Legend\n",
    "        plt.subplot(1, 4, 4)\n",
    "        plt.axis('off')\n",
    "\n",
    "        plt.savefig(\"grad_cam_result_{}.png\".format(i))\n",
    "        plt.show()\n",
    "\n",
    "# Specify the layer name for which you want to generate Grad-CAM\n",
    "# You can choose any intermediate layer in your model\n",
    "layer_name = \"conv2d_4\"  # Example layer name, change it as needed\n",
    "\n",
    "# Generate Grad-CAM visualizations for the first 5 images\n",
    "generate_grad_cam_images(model, images, layer_name, num_images=5)\n"
   ]
  },
  {
   "cell_type": "code",
   "execution_count": null,
   "id": "c3441966",
   "metadata": {
    "execution": {
     "iopub.status.busy": "2023-10-05T14:50:09.132701Z",
     "iopub.status.idle": "2023-10-05T14:50:09.133166Z",
     "shell.execute_reply": "2023-10-05T14:50:09.132966Z",
     "shell.execute_reply.started": "2023-10-05T14:50:09.132948Z"
    },
    "papermill": {
     "duration": null,
     "end_time": null,
     "exception": null,
     "start_time": null,
     "status": "pending"
    },
    "tags": []
   },
   "outputs": [],
   "source": [
    "# Import necessary libraries\n",
    "import numpy as np\n",
    "import pandas as pd\n",
    "import matplotlib.pyplot as plt\n",
    "from sklearn.metrics import classification_report, confusion_matrix\n",
    "\n",
    "# Evaluate the model on the validation dataset\n",
    "val_results = model.evaluate(val_ds)\n",
    "\n",
    "# Predict labels for the validation dataset\n",
    "val_pred_probs = model.predict(val_ds)\n",
    "val_pred_labels = np.argmax(val_pred_probs, axis=1)\n",
    "\n",
    "# Extract true labels from val_ds\n",
    "val_true_labels = val_ds.classes\n",
    "\n",
    "# Compute precision, recall, F1 score, and accuracy\n",
    "from sklearn.metrics import precision_score, recall_score, f1_score, accuracy_score\n",
    "\n",
    "precision = precision_score(val_true_labels, val_pred_labels, average='weighted')\n",
    "recall = recall_score(val_true_labels, val_pred_labels, average='weighted')\n",
    "f1 = f1_score(val_true_labels, val_pred_labels, average='weighted')\n",
    "accuracy = accuracy_score(val_true_labels, val_pred_labels)\n",
    "\n",
    "print(f'Precision: {precision:.4f}')\n",
    "print(f'Recall: {recall:.4f}')\n",
    "print(f'F1 Score: {f1:.4f}')\n",
    "print(f'Accuracy: {accuracy:.4f}')\n",
    "\n",
    "# Create a confusion matrix\n",
    "conf_matrix = confusion_matrix(val_true_labels, val_pred_labels)\n",
    "\n",
    "# Visualize the confusion matrix\n",
    "plt.figure(figsize=(8, 6))\n",
    "plt.imshow(conf_matrix, interpolation='nearest', cmap=plt.cm.Blues)\n",
    "plt.title('Confusion Matrix')\n",
    "plt.colorbar()\n",
    "tick_marks = np.arange(num_classes)\n",
    "plt.xticks(tick_marks, classes, rotation=90)\n",
    "plt.yticks(tick_marks, classes)\n",
    "plt.xlabel('Predicted')\n",
    "plt.ylabel('True')\n",
    "plt.show()\n"
   ]
  },
  {
   "cell_type": "code",
   "execution_count": null,
   "id": "0de858fb",
   "metadata": {
    "execution": {
     "iopub.status.busy": "2023-10-05T14:50:09.136599Z",
     "iopub.status.idle": "2023-10-05T14:50:09.138224Z",
     "shell.execute_reply": "2023-10-05T14:50:09.137848Z",
     "shell.execute_reply.started": "2023-10-05T14:50:09.137800Z"
    },
    "papermill": {
     "duration": null,
     "end_time": null,
     "exception": null,
     "start_time": null,
     "status": "pending"
    },
    "tags": []
   },
   "outputs": [],
   "source": [
    "# Create a confusion matrix\n",
    "conf_matrix = confusion_matrix(val_true_labels, val_pred_labels)\n",
    "import seaborn as sns\n",
    "# Visualize the confusion matrix with values and angled x-axis labels\n",
    "plt.figure(figsize=(6, 6))\n",
    "sns.heatmap(conf_matrix, annot=True, fmt='d', cmap='Blues', xticklabels=classes, yticklabels=classes, cbar=False)\n",
    "plt.title('Confusion Matrix')\n",
    "plt.xlabel('Predicted')\n",
    "plt.ylabel('True')\n",
    "plt.xticks(rotation=90)\n",
    "plt.show()"
   ]
  },
  {
   "cell_type": "code",
   "execution_count": null,
   "id": "e0f4fdce",
   "metadata": {
    "execution": {
     "iopub.status.busy": "2023-10-05T14:50:09.140047Z",
     "iopub.status.idle": "2023-10-05T14:50:09.140910Z",
     "shell.execute_reply": "2023-10-05T14:50:09.140550Z",
     "shell.execute_reply.started": "2023-10-05T14:50:09.140515Z"
    },
    "papermill": {
     "duration": null,
     "end_time": null,
     "exception": null,
     "start_time": null,
     "status": "pending"
    },
    "tags": []
   },
   "outputs": [],
   "source": [
    "pip install visualkeras"
   ]
  },
  {
   "cell_type": "code",
   "execution_count": null,
   "id": "8ac5df59",
   "metadata": {
    "execution": {
     "iopub.status.busy": "2023-10-05T14:50:09.143391Z",
     "iopub.status.idle": "2023-10-05T14:50:09.144074Z",
     "shell.execute_reply": "2023-10-05T14:50:09.143865Z",
     "shell.execute_reply.started": "2023-10-05T14:50:09.143838Z"
    },
    "papermill": {
     "duration": null,
     "end_time": null,
     "exception": null,
     "start_time": null,
     "status": "pending"
    },
    "tags": []
   },
   "outputs": [],
   "source": [
    "import visualkeras\n",
    "from visualkeras import layered_view\n",
    "layered_model = layered_view(model, legend=True)\n",
    "# Save the visualization to an image file\n",
    "layered_model.save('model_visualization.png')\n",
    "\n",
    "# Display the visualization (optional)\n",
    "from IPython.display import Image\n",
    "Image(filename='model_visualization.png')"
   ]
  },
  {
   "cell_type": "code",
   "execution_count": null,
   "id": "26d43772",
   "metadata": {
    "execution": {
     "iopub.status.busy": "2023-10-05T14:50:09.146722Z",
     "iopub.status.idle": "2023-10-05T14:50:09.148198Z",
     "shell.execute_reply": "2023-10-05T14:50:09.147985Z",
     "shell.execute_reply.started": "2023-10-05T14:50:09.147957Z"
    },
    "papermill": {
     "duration": null,
     "end_time": null,
     "exception": null,
     "start_time": null,
     "status": "pending"
    },
    "tags": []
   },
   "outputs": [],
   "source": [
    "history = model.fit(\n",
    "    train_ds,\n",
    "    steps_per_epoch = steps_per_epoch,\n",
    "    epochs = 15,\n",
    "    validation_data = val_ds\n",
    ")\n",
    "\n",
    "#model.summary()"
   ]
  },
  {
   "cell_type": "code",
   "execution_count": null,
   "id": "287e0e68",
   "metadata": {
    "execution": {
     "iopub.status.busy": "2023-10-05T14:50:09.149412Z",
     "iopub.status.idle": "2023-10-05T14:50:09.149868Z",
     "shell.execute_reply": "2023-10-05T14:50:09.149702Z",
     "shell.execute_reply.started": "2023-10-05T14:50:09.149682Z"
    },
    "papermill": {
     "duration": null,
     "end_time": null,
     "exception": null,
     "start_time": null,
     "status": "pending"
    },
    "tags": []
   },
   "outputs": [],
   "source": [
    "fig, (ax1, ax2) = plt.subplots(1, 2, figsize=(12, 4))\n",
    "\n",
    "# Plot accuracy\n",
    "ax1.plot(history.history[\"accuracy\"], color=\"r\")\n",
    "ax1.plot(history.history[\"val_accuracy\"], color=\"g\")\n",
    "ax1.legend([\"Training\", \"Validation\"])\n",
    "ax1.set_xlabel(\"Epochs\")\n",
    "ax1.set_ylabel(\"Accuracy\")\n",
    "ax1.grid()\n",
    "ax1.set_ylim(0, 1)\n",
    "\n",
    "# Plot loss\n",
    "ax2.plot(history.history[\"loss\"], color=\"r\")\n",
    "ax2.plot(history.history[\"val_loss\"], color=\"g\")\n",
    "ax2.legend([\"Training\", \"Validation\"])\n",
    "ax2.set_xlabel(\"Epochs\")\n",
    "ax2.set_ylabel(\"Loss\")\n",
    "ax2.grid()\n",
    "\n",
    "# Show the subplots\n",
    "plt.tight_layout()\n",
    "plt.show()"
   ]
  },
  {
   "cell_type": "code",
   "execution_count": null,
   "id": "8f33a51f",
   "metadata": {
    "execution": {
     "iopub.status.busy": "2023-10-05T14:50:09.152292Z",
     "iopub.status.idle": "2023-10-05T14:50:09.152903Z",
     "shell.execute_reply": "2023-10-05T14:50:09.152658Z",
     "shell.execute_reply.started": "2023-10-05T14:50:09.152619Z"
    },
    "papermill": {
     "duration": null,
     "end_time": null,
     "exception": null,
     "start_time": null,
     "status": "pending"
    },
    "tags": []
   },
   "outputs": [],
   "source": [
    "# Import necessary libraries\n",
    "import numpy as np\n",
    "import pandas as pd\n",
    "import matplotlib.pyplot as plt\n",
    "from sklearn.metrics import classification_report, confusion_matrix\n",
    "\n",
    "# Evaluate the model on the validation dataset\n",
    "val_results = model.evaluate(val_ds)\n",
    "\n",
    "# Predict labels for the validation dataset\n",
    "val_pred_probs = model.predict(val_ds)\n",
    "val_pred_labels = np.argmax(val_pred_probs, axis=1)\n",
    "\n",
    "# Extract true labels from val_ds\n",
    "val_true_labels = val_ds.classes\n",
    "\n",
    "# Compute precision, recall, F1 score, and accuracy\n",
    "from sklearn.metrics import precision_score, recall_score, f1_score, accuracy_score\n",
    "\n",
    "precision = precision_score(val_true_labels, val_pred_labels, average='weighted')\n",
    "recall = recall_score(val_true_labels, val_pred_labels, average='weighted')\n",
    "f1 = f1_score(val_true_labels, val_pred_labels, average='weighted')\n",
    "accuracy = accuracy_score(val_true_labels, val_pred_labels)\n",
    "\n",
    "print(f'Precision: {precision:.4f}')\n",
    "print(f'Recall: {recall:.4f}')\n",
    "print(f'F1 Score: {f1:.4f}')\n",
    "print(f'Accuracy: {accuracy:.4f}')\n",
    "\n",
    "# Create a confusion matrix\n",
    "conf_matrix = confusion_matrix(val_true_labels, val_pred_labels)\n",
    "\n",
    "# Visualize the confusion matrix\n",
    "plt.figure(figsize=(8, 6))\n",
    "plt.imshow(conf_matrix, interpolation='nearest', cmap=plt.cm.Blues)\n",
    "plt.title('Confusion Matrix')\n",
    "plt.colorbar()\n",
    "tick_marks = np.arange(num_classes)\n",
    "plt.xticks(tick_marks, classes, rotation=90)\n",
    "plt.yticks(tick_marks, classes)\n",
    "plt.xlabel('Predicted')\n",
    "plt.ylabel('True')\n",
    "plt.show()\n"
   ]
  },
  {
   "cell_type": "code",
   "execution_count": null,
   "id": "13132d63",
   "metadata": {
    "execution": {
     "iopub.status.busy": "2023-10-05T14:50:09.154397Z",
     "iopub.status.idle": "2023-10-05T14:50:09.155007Z",
     "shell.execute_reply": "2023-10-05T14:50:09.154761Z",
     "shell.execute_reply.started": "2023-10-05T14:50:09.154734Z"
    },
    "papermill": {
     "duration": null,
     "end_time": null,
     "exception": null,
     "start_time": null,
     "status": "pending"
    },
    "tags": []
   },
   "outputs": [],
   "source": [
    "# Create a confusion matrix\n",
    "conf_matrix = confusion_matrix(val_true_labels, val_pred_labels)\n",
    "import seaborn as sns\n",
    "# Visualize the confusion matrix with values and angled x-axis labels\n",
    "plt.figure(figsize=(6, 6))\n",
    "sns.heatmap(conf_matrix, annot=True, fmt='d', cmap='Blues', xticklabels=classes, yticklabels=classes, cbar=False)\n",
    "plt.title('Confusion Matrix')\n",
    "plt.xlabel('Predicted')\n",
    "plt.ylabel('True')\n",
    "plt.xticks(rotation=90)\n",
    "plt.show()"
   ]
  },
  {
   "cell_type": "markdown",
   "id": "2336a325",
   "metadata": {
    "papermill": {
     "duration": null,
     "end_time": null,
     "exception": null,
     "start_time": null,
     "status": "pending"
    },
    "tags": []
   },
   "source": [
    "# model 2"
   ]
  },
  {
   "cell_type": "code",
   "execution_count": null,
   "id": "b83b6a92",
   "metadata": {
    "execution": {
     "iopub.status.busy": "2023-10-05T14:50:09.157282Z",
     "iopub.status.idle": "2023-10-05T14:50:09.158019Z",
     "shell.execute_reply": "2023-10-05T14:50:09.157565Z",
     "shell.execute_reply.started": "2023-10-05T14:50:09.157544Z"
    },
    "papermill": {
     "duration": null,
     "end_time": null,
     "exception": null,
     "start_time": null,
     "status": "pending"
    },
    "tags": []
   },
   "outputs": [],
   "source": [
    "\n",
    "\n",
    "\n",
    "# Create the model\n",
    "model = tf.keras.Sequential([\n",
    "    tf.keras.layers.InputLayer(input_shape=(IMAGE_SIZE, IMAGE_SIZE, 3)),\n",
    "    tf.keras.layers.Conv2D(16, (3, 3), activation='relu'),\n",
    "    tf.keras.layers.MaxPooling2D(2, 2),\n",
    "    tf.keras.layers.Conv2D(32, (3, 3), activation='relu'),\n",
    "    tf.keras.layers.MaxPooling2D(2, 2),\n",
    "    tf.keras.layers.Conv2D(64, (3, 3), activation='relu'),\n",
    "    tf.keras.layers.MaxPooling2D(2, 2),\n",
    "    tf.keras.layers.Conv2D(128, (3, 3), activation='relu'),\n",
    "    tf.keras.layers.MaxPooling2D(2, 2),\n",
    "    tf.keras.layers.Conv2D(256, (3, 3), activation='relu'),\n",
    "    tf.keras.layers.MaxPooling2D(2, 2),\n",
    "    tf.keras.layers.Flatten(),\n",
    "    tf.keras.layers.Dense(8192, activation='relu'),\n",
    "    tf.keras.layers.Dropout(0.5),  # Add dropout to reduce overfitting\n",
    "    tf.keras.layers.Dense(1024, activation='relu'),\n",
    "    tf.keras.layers.Dropout(0.5),  # Add dropout to reduce overfitting\n",
    "    tf.keras.layers.Dense(128, activation='relu'),\n",
    "    tf.keras.layers.Dense(num_classes, activation='softmax')\n",
    "])\n",
    "\n",
    "model.summary()\n",
    "\n",
    "model.compile(optimizer='Adam',loss='categorical_crossentropy',metrics=['accuracy'])"
   ]
  },
  {
   "cell_type": "code",
   "execution_count": null,
   "id": "20408faf",
   "metadata": {
    "execution": {
     "iopub.status.busy": "2023-10-05T14:50:09.161371Z",
     "iopub.status.idle": "2023-10-05T14:50:09.162861Z",
     "shell.execute_reply": "2023-10-05T14:50:09.162616Z",
     "shell.execute_reply.started": "2023-10-05T14:50:09.162586Z"
    },
    "papermill": {
     "duration": null,
     "end_time": null,
     "exception": null,
     "start_time": null,
     "status": "pending"
    },
    "tags": []
   },
   "outputs": [],
   "source": [
    "\n",
    "model.compile(optimizer='Adam',loss='categorical_crossentropy',metrics=['accuracy'])\n"
   ]
  },
  {
   "cell_type": "code",
   "execution_count": null,
   "id": "89781da8",
   "metadata": {
    "execution": {
     "iopub.status.busy": "2023-10-05T14:50:09.164687Z",
     "iopub.status.idle": "2023-10-05T14:50:09.165581Z",
     "shell.execute_reply": "2023-10-05T14:50:09.165140Z",
     "shell.execute_reply.started": "2023-10-05T14:50:09.165109Z"
    },
    "papermill": {
     "duration": null,
     "end_time": null,
     "exception": null,
     "start_time": null,
     "status": "pending"
    },
    "tags": []
   },
   "outputs": [],
   "source": [
    "history = model.fit(\n",
    "    train_ds,\n",
    "    steps_per_epoch = steps_per_epoch,\n",
    "    epochs = 15,\n",
    "    validation_data = val_ds\n",
    ")\n",
    "\n",
    "#model.summary()"
   ]
  },
  {
   "cell_type": "code",
   "execution_count": null,
   "id": "1c730ce9",
   "metadata": {
    "execution": {
     "iopub.status.busy": "2023-10-05T14:50:09.168081Z",
     "iopub.status.idle": "2023-10-05T14:50:09.169395Z",
     "shell.execute_reply": "2023-10-05T14:50:09.169183Z",
     "shell.execute_reply.started": "2023-10-05T14:50:09.169157Z"
    },
    "papermill": {
     "duration": null,
     "end_time": null,
     "exception": null,
     "start_time": null,
     "status": "pending"
    },
    "tags": []
   },
   "outputs": [],
   "source": [
    "fig, (ax1, ax2) = plt.subplots(1, 2, figsize=(12, 4))\n",
    "\n",
    "# Plot accuracy\n",
    "ax1.plot(history.history[\"accuracy\"], color=\"r\")\n",
    "ax1.plot(history.history[\"val_accuracy\"], color=\"g\")\n",
    "ax1.legend([\"Training\", \"Validation\"])\n",
    "ax1.set_xlabel(\"Epochs\")\n",
    "ax1.set_ylabel(\"Accuracy\")\n",
    "ax1.grid()\n",
    "ax1.set_ylim(0, 1)\n",
    "\n",
    "# Plot loss\n",
    "ax2.plot(history.history[\"loss\"], color=\"r\")\n",
    "ax2.plot(history.history[\"val_loss\"], color=\"g\")\n",
    "ax2.legend([\"Training\", \"Validation\"])\n",
    "ax2.set_xlabel(\"Epochs\")\n",
    "ax2.set_ylabel(\"Loss\")\n",
    "ax2.grid()\n",
    "\n",
    "# Show the subplots\n",
    "plt.tight_layout()\n",
    "plt.show()"
   ]
  },
  {
   "cell_type": "code",
   "execution_count": null,
   "id": "580c8543",
   "metadata": {
    "execution": {
     "iopub.status.busy": "2023-10-05T14:50:09.171386Z",
     "iopub.status.idle": "2023-10-05T14:50:09.171887Z",
     "shell.execute_reply": "2023-10-05T14:50:09.171704Z",
     "shell.execute_reply.started": "2023-10-05T14:50:09.171684Z"
    },
    "papermill": {
     "duration": null,
     "end_time": null,
     "exception": null,
     "start_time": null,
     "status": "pending"
    },
    "tags": []
   },
   "outputs": [],
   "source": [
    "# Import necessary libraries\n",
    "import numpy as np\n",
    "import pandas as pd\n",
    "import matplotlib.pyplot as plt\n",
    "from sklearn.metrics import classification_report, confusion_matrix\n",
    "\n",
    "# Evaluate the model on the validation dataset\n",
    "val_results = model.evaluate(val_ds)\n",
    "\n",
    "# Predict labels for the validation dataset\n",
    "val_pred_probs = model.predict(val_ds)\n",
    "val_pred_labels = np.argmax(val_pred_probs, axis=1)\n",
    "\n",
    "# Extract true labels from val_ds\n",
    "val_true_labels = val_ds.classes\n",
    "\n",
    "# Compute precision, recall, F1 score, and accuracy\n",
    "from sklearn.metrics import precision_score, recall_score, f1_score, accuracy_score\n",
    "\n",
    "precision = precision_score(val_true_labels, val_pred_labels, average='weighted')\n",
    "recall = recall_score(val_true_labels, val_pred_labels, average='weighted')\n",
    "f1 = f1_score(val_true_labels, val_pred_labels, average='weighted')\n",
    "accuracy = accuracy_score(val_true_labels, val_pred_labels)\n",
    "\n",
    "print(f'Precision: {precision:.4f}')\n",
    "print(f'Recall: {recall:.4f}')\n",
    "print(f'F1 Score: {f1:.4f}')\n",
    "print(f'Accuracy: {accuracy:.4f}')\n",
    "\n",
    "# Create a confusion matrix\n",
    "conf_matrix = confusion_matrix(val_true_labels, val_pred_labels)\n",
    "\n",
    "# Visualize the confusion matrix\n",
    "plt.figure(figsize=(8, 6))\n",
    "plt.imshow(conf_matrix, interpolation='nearest', cmap=plt.cm.Blues)\n",
    "plt.title('Confusion Matrix')\n",
    "plt.colorbar()\n",
    "tick_marks = np.arange(num_classes)\n",
    "plt.xticks(tick_marks, classes, rotation=90)\n",
    "plt.yticks(tick_marks, classes)\n",
    "plt.xlabel('Predicted')\n",
    "plt.ylabel('True')\n",
    "plt.show()\n"
   ]
  },
  {
   "cell_type": "code",
   "execution_count": null,
   "id": "49e59cdf",
   "metadata": {
    "execution": {
     "iopub.status.busy": "2023-10-05T14:50:09.173923Z",
     "iopub.status.idle": "2023-10-05T14:50:09.174492Z",
     "shell.execute_reply": "2023-10-05T14:50:09.174260Z",
     "shell.execute_reply.started": "2023-10-05T14:50:09.174240Z"
    },
    "papermill": {
     "duration": null,
     "end_time": null,
     "exception": null,
     "start_time": null,
     "status": "pending"
    },
    "tags": []
   },
   "outputs": [],
   "source": [
    "import visualkeras\n",
    "from visualkeras import layered_view\n",
    "layered_model = layered_view(model, legend=True)\n",
    "# Save the visualization to an image file\n",
    "layered_model.save('model_visualization2.png')\n",
    "\n",
    "# Display the visualization (optional)\n",
    "from IPython.display import Image\n",
    "Image(filename='model_visualization2.png')"
   ]
  },
  {
   "cell_type": "code",
   "execution_count": null,
   "id": "14119af5",
   "metadata": {
    "execution": {
     "iopub.status.busy": "2023-10-05T14:50:09.177415Z",
     "iopub.status.idle": "2023-10-05T14:50:09.177899Z",
     "shell.execute_reply": "2023-10-05T14:50:09.177731Z",
     "shell.execute_reply.started": "2023-10-05T14:50:09.177712Z"
    },
    "papermill": {
     "duration": null,
     "end_time": null,
     "exception": null,
     "start_time": null,
     "status": "pending"
    },
    "tags": []
   },
   "outputs": [],
   "source": [
    "# Data augmentation\n",
    "img_gen = ImageDataGenerator(\n",
    "    rescale=1./255,\n",
    "    validation_split=0.1,\n",
    "    rotation_range=20,\n",
    "    width_shift_range=0.2,\n",
    "    height_shift_range=0.2,\n",
    "    horizontal_flip=True,\n",
    ")"
   ]
  },
  {
   "cell_type": "code",
   "execution_count": null,
   "id": "2c49d50c",
   "metadata": {
    "execution": {
     "iopub.status.busy": "2023-10-05T14:50:09.179221Z",
     "iopub.status.idle": "2023-10-05T14:50:09.179687Z",
     "shell.execute_reply": "2023-10-05T14:50:09.179497Z",
     "shell.execute_reply.started": "2023-10-05T14:50:09.179454Z"
    },
    "papermill": {
     "duration": null,
     "end_time": null,
     "exception": null,
     "start_time": null,
     "status": "pending"
    },
    "tags": []
   },
   "outputs": [],
   "source": [
    "print(IMAGE_SIZE)"
   ]
  },
  {
   "cell_type": "markdown",
   "id": "b42277be",
   "metadata": {
    "papermill": {
     "duration": null,
     "end_time": null,
     "exception": null,
     "start_time": null,
     "status": "pending"
    },
    "tags": []
   },
   "source": [
    "# model 1"
   ]
  },
  {
   "cell_type": "code",
   "execution_count": null,
   "id": "11ef1a8d",
   "metadata": {
    "execution": {
     "iopub.status.busy": "2023-10-05T14:50:09.181975Z",
     "iopub.status.idle": "2023-10-05T14:50:09.182498Z",
     "shell.execute_reply": "2023-10-05T14:50:09.182293Z",
     "shell.execute_reply.started": "2023-10-05T14:50:09.182274Z"
    },
    "papermill": {
     "duration": null,
     "end_time": null,
     "exception": null,
     "start_time": null,
     "status": "pending"
    },
    "tags": []
   },
   "outputs": [],
   "source": [
    "\n",
    "model = tf.keras.Sequential([\n",
    "tf.keras.layers.InputLayer(input_shape=(IMAGE_SIZE, IMAGE_SIZE, 3)),\n",
    "tf.keras.layers.Conv2D(16, (3,3), activation='relu'),\n",
    "tf.keras.layers.MaxPooling2D(2, 2),\n",
    "tf.keras.layers.Conv2D(32, (3,3), activation='relu'),\n",
    "tf.keras.layers.MaxPooling2D(2,2),\n",
    "tf.keras.layers.Conv2D(64, (3,3), activation='relu'),\n",
    "tf.keras.layers.MaxPooling2D(2,2),\n",
    "tf.keras.layers.Conv2D(128, (3,3), activation='relu'),\n",
    "tf.keras.layers.MaxPooling2D(2,2),\n",
    "tf.keras.layers.Conv2D(256, (3,3), activation='relu'),\n",
    "tf.keras.layers.MaxPooling2D(2,2),\n",
    "tf.keras.layers.Flatten(),\n",
    "tf.keras.layers.Dense(8192, activation='relu'),\n",
    "tf.keras.layers.Dense(1024, activation='relu'),\n",
    "tf.keras.layers.Dense(128, activation='relu'),\n",
    "tf.keras.layers.Dense(num_classes, activation='softmax')\n",
    "])\n",
    "\n",
    "model.summary()"
   ]
  },
  {
   "cell_type": "code",
   "execution_count": null,
   "id": "502948b8",
   "metadata": {
    "execution": {
     "iopub.status.busy": "2023-10-05T14:50:09.184122Z",
     "iopub.status.idle": "2023-10-05T14:50:09.184569Z",
     "shell.execute_reply": "2023-10-05T14:50:09.184394Z",
     "shell.execute_reply.started": "2023-10-05T14:50:09.184376Z"
    },
    "papermill": {
     "duration": null,
     "end_time": null,
     "exception": null,
     "start_time": null,
     "status": "pending"
    },
    "tags": []
   },
   "outputs": [],
   "source": [
    "model.compile(optimizer=Adam(learning_rate=LEARNING_RATE),\n",
    "              loss='categorical_crossentropy',\n",
    "              metrics=['accuracy'])\n",
    "\n",
    "model.summary()\n",
    "\n",
    "# Early stopping callback\n",
    "early_stopping = keras.callbacks.EarlyStopping(monitor='val_loss', patience=5, restore_best_weights=True)\n",
    "\n",
    "# Learning rate schedule\n",
    "lr_schedule = keras.callbacks.ReduceLROnPlateau(monitor='val_loss', factor=0.5, patience=3, min_lr=0.00001)\n"
   ]
  },
  {
   "cell_type": "code",
   "execution_count": null,
   "id": "3f0a8182",
   "metadata": {
    "execution": {
     "iopub.status.busy": "2023-10-05T14:50:09.187384Z",
     "iopub.status.idle": "2023-10-05T14:50:09.187819Z",
     "shell.execute_reply": "2023-10-05T14:50:09.187660Z",
     "shell.execute_reply.started": "2023-10-05T14:50:09.187643Z"
    },
    "papermill": {
     "duration": null,
     "end_time": null,
     "exception": null,
     "start_time": null,
     "status": "pending"
    },
    "tags": []
   },
   "outputs": [],
   "source": [
    "# Training the model\n",
    "history = model.fit(\n",
    "    train_ds,\n",
    "    steps_per_epoch=steps_per_epoch,\n",
    "    epochs=EPOCHS,\n",
    "    validation_data=val_ds,\n",
    "    callbacks=[early_stopping, lr_schedule],\n",
    ")\n"
   ]
  },
  {
   "cell_type": "code",
   "execution_count": null,
   "id": "c8b5432e",
   "metadata": {
    "execution": {
     "iopub.status.busy": "2023-10-05T14:50:09.190018Z",
     "iopub.status.idle": "2023-10-05T14:50:09.190548Z",
     "shell.execute_reply": "2023-10-05T14:50:09.190330Z",
     "shell.execute_reply.started": "2023-10-05T14:50:09.190311Z"
    },
    "papermill": {
     "duration": null,
     "end_time": null,
     "exception": null,
     "start_time": null,
     "status": "pending"
    },
    "tags": []
   },
   "outputs": [],
   "source": [
    "history = model.fit(\n",
    "    train_ds,\n",
    "    steps_per_epoch=steps_per_epoch,\n",
    "    epochs=EPOCHS,\n",
    "    validation_data=val_ds,\n",
    "    callbacks=[early_stopping_callback]\n",
    ")\n"
   ]
  }
 ],
 "metadata": {
  "kernelspec": {
   "display_name": "Python 3",
   "language": "python",
   "name": "python3"
  },
  "language_info": {
   "codemirror_mode": {
    "name": "ipython",
    "version": 3
   },
   "file_extension": ".py",
   "mimetype": "text/x-python",
   "name": "python",
   "nbconvert_exporter": "python",
   "pygments_lexer": "ipython3",
   "version": "3.6.4"
  },
  "papermill": {
   "default_parameters": {},
   "duration": null,
   "end_time": null,
   "environment_variables": {},
   "exception": null,
   "input_path": "__notebook__.ipynb",
   "output_path": "__notebook__.ipynb",
   "parameters": {},
   "start_time": "2023-10-30T10:26:19.001047",
   "version": "2.4.0"
  }
 },
 "nbformat": 4,
 "nbformat_minor": 5
}